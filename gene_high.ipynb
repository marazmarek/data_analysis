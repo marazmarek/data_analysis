{
 "cells": [
  {
   "cell_type": "code",
   "execution_count": 1,
   "metadata": {},
   "outputs": [],
   "source": [
    "import pandas as pd\n",
    "import numpy as np\n",
    "\n",
    "import statsmodels.stats.multitest as smm\n",
    "from statsmodels.stats.weightstats import *"
   ]
  },
  {
   "cell_type": "code",
   "execution_count": 2,
   "metadata": {},
   "outputs": [],
   "source": [
    "import matplotlib.pyplot as plt\n",
    "import seaborn as sns\n",
    "%matplotlib inline"
   ]
  },
  {
   "cell_type": "markdown",
   "metadata": {},
   "source": [
    "Дані - степінь експресії генів у трьох групах: normal (здорові жінки), early neoplasia (рання стадія раку грудей), \n",
    "cancer (сильно виражені симптоми хвороби).\n",
    "Дослідження було проведено в Stanford School of Medicine."
   ]
  },
  {
   "cell_type": "code",
   "execution_count": 3,
   "metadata": {},
   "outputs": [],
   "source": [
    "df = pd.read_csv('gene_high_throughput_sequencing.csv')"
   ]
  },
  {
   "cell_type": "code",
   "execution_count": 4,
   "metadata": {},
   "outputs": [
    {
     "data": {
      "text/html": [
       "<div>\n",
       "<style scoped>\n",
       "    .dataframe tbody tr th:only-of-type {\n",
       "        vertical-align: middle;\n",
       "    }\n",
       "\n",
       "    .dataframe tbody tr th {\n",
       "        vertical-align: top;\n",
       "    }\n",
       "\n",
       "    .dataframe thead th {\n",
       "        text-align: right;\n",
       "    }\n",
       "</style>\n",
       "<table border=\"1\" class=\"dataframe\">\n",
       "  <thead>\n",
       "    <tr style=\"text-align: right;\">\n",
       "      <th></th>\n",
       "      <th>Patient_id</th>\n",
       "      <th>Diagnosis</th>\n",
       "      <th>LOC643837</th>\n",
       "      <th>LOC100130417</th>\n",
       "      <th>SAMD11</th>\n",
       "      <th>NOC2L</th>\n",
       "      <th>KLHL17</th>\n",
       "      <th>PLEKHN1</th>\n",
       "      <th>C1orf170</th>\n",
       "      <th>HES4</th>\n",
       "      <th>...</th>\n",
       "      <th>CLIC2</th>\n",
       "      <th>RPS4Y1</th>\n",
       "      <th>ZFY</th>\n",
       "      <th>PRKY</th>\n",
       "      <th>USP9Y</th>\n",
       "      <th>DDX3Y</th>\n",
       "      <th>CD24</th>\n",
       "      <th>CYorf15B</th>\n",
       "      <th>KDM5D</th>\n",
       "      <th>EIF1AY</th>\n",
       "    </tr>\n",
       "  </thead>\n",
       "  <tbody>\n",
       "    <tr>\n",
       "      <th>0</th>\n",
       "      <td>STT5425_Breast_001_normal</td>\n",
       "      <td>normal</td>\n",
       "      <td>1.257614</td>\n",
       "      <td>2.408148</td>\n",
       "      <td>13.368622</td>\n",
       "      <td>9.494779</td>\n",
       "      <td>20.880435</td>\n",
       "      <td>12.722017</td>\n",
       "      <td>9.494779</td>\n",
       "      <td>54.349694</td>\n",
       "      <td>...</td>\n",
       "      <td>4.761250</td>\n",
       "      <td>1.257614</td>\n",
       "      <td>1.257614</td>\n",
       "      <td>1.257614</td>\n",
       "      <td>1.257614</td>\n",
       "      <td>1.257614</td>\n",
       "      <td>23.268694</td>\n",
       "      <td>1.257614</td>\n",
       "      <td>1.257614</td>\n",
       "      <td>1.257614</td>\n",
       "    </tr>\n",
       "    <tr>\n",
       "      <th>1</th>\n",
       "      <td>STT5427_Breast_023_normal</td>\n",
       "      <td>normal</td>\n",
       "      <td>4.567931</td>\n",
       "      <td>16.602734</td>\n",
       "      <td>42.477752</td>\n",
       "      <td>25.562376</td>\n",
       "      <td>23.221137</td>\n",
       "      <td>11.622386</td>\n",
       "      <td>14.330573</td>\n",
       "      <td>72.445474</td>\n",
       "      <td>...</td>\n",
       "      <td>6.871902</td>\n",
       "      <td>1.815112</td>\n",
       "      <td>1.815112</td>\n",
       "      <td>1.815112</td>\n",
       "      <td>1.815112</td>\n",
       "      <td>1.815112</td>\n",
       "      <td>10.427023</td>\n",
       "      <td>1.815112</td>\n",
       "      <td>1.815112</td>\n",
       "      <td>1.815112</td>\n",
       "    </tr>\n",
       "    <tr>\n",
       "      <th>2</th>\n",
       "      <td>STT5430_Breast_002_normal</td>\n",
       "      <td>normal</td>\n",
       "      <td>2.077597</td>\n",
       "      <td>3.978294</td>\n",
       "      <td>12.863214</td>\n",
       "      <td>13.728915</td>\n",
       "      <td>14.543176</td>\n",
       "      <td>14.141907</td>\n",
       "      <td>6.232790</td>\n",
       "      <td>57.011005</td>\n",
       "      <td>...</td>\n",
       "      <td>7.096343</td>\n",
       "      <td>2.077597</td>\n",
       "      <td>2.077597</td>\n",
       "      <td>2.077597</td>\n",
       "      <td>2.077597</td>\n",
       "      <td>2.077597</td>\n",
       "      <td>22.344226</td>\n",
       "      <td>2.077597</td>\n",
       "      <td>2.077597</td>\n",
       "      <td>2.077597</td>\n",
       "    </tr>\n",
       "    <tr>\n",
       "      <th>3</th>\n",
       "      <td>STT5439_Breast_003_normal</td>\n",
       "      <td>normal</td>\n",
       "      <td>2.066576</td>\n",
       "      <td>8.520713</td>\n",
       "      <td>14.466035</td>\n",
       "      <td>7.823932</td>\n",
       "      <td>8.520713</td>\n",
       "      <td>2.066576</td>\n",
       "      <td>10.870009</td>\n",
       "      <td>53.292034</td>\n",
       "      <td>...</td>\n",
       "      <td>5.200770</td>\n",
       "      <td>2.066576</td>\n",
       "      <td>2.066576</td>\n",
       "      <td>2.066576</td>\n",
       "      <td>2.066576</td>\n",
       "      <td>2.066576</td>\n",
       "      <td>49.295538</td>\n",
       "      <td>2.066576</td>\n",
       "      <td>2.066576</td>\n",
       "      <td>2.066576</td>\n",
       "    </tr>\n",
       "    <tr>\n",
       "      <th>4</th>\n",
       "      <td>STT5441_Breast_004_normal</td>\n",
       "      <td>normal</td>\n",
       "      <td>2.613616</td>\n",
       "      <td>3.434965</td>\n",
       "      <td>12.682222</td>\n",
       "      <td>10.543189</td>\n",
       "      <td>26.688686</td>\n",
       "      <td>12.484822</td>\n",
       "      <td>1.364917</td>\n",
       "      <td>67.140393</td>\n",
       "      <td>...</td>\n",
       "      <td>11.227770</td>\n",
       "      <td>1.364917</td>\n",
       "      <td>1.364917</td>\n",
       "      <td>1.364917</td>\n",
       "      <td>1.364917</td>\n",
       "      <td>1.364917</td>\n",
       "      <td>23.627911</td>\n",
       "      <td>1.364917</td>\n",
       "      <td>1.364917</td>\n",
       "      <td>1.364917</td>\n",
       "    </tr>\n",
       "  </tbody>\n",
       "</table>\n",
       "<p>5 rows × 15750 columns</p>\n",
       "</div>"
      ],
      "text/plain": [
       "                  Patient_id Diagnosis  LOC643837  LOC100130417     SAMD11  \\\n",
       "0  STT5425_Breast_001_normal    normal   1.257614      2.408148  13.368622   \n",
       "1  STT5427_Breast_023_normal    normal   4.567931     16.602734  42.477752   \n",
       "2  STT5430_Breast_002_normal    normal   2.077597      3.978294  12.863214   \n",
       "3  STT5439_Breast_003_normal    normal   2.066576      8.520713  14.466035   \n",
       "4  STT5441_Breast_004_normal    normal   2.613616      3.434965  12.682222   \n",
       "\n",
       "       NOC2L     KLHL17    PLEKHN1   C1orf170       HES4    ...         CLIC2  \\\n",
       "0   9.494779  20.880435  12.722017   9.494779  54.349694    ...      4.761250   \n",
       "1  25.562376  23.221137  11.622386  14.330573  72.445474    ...      6.871902   \n",
       "2  13.728915  14.543176  14.141907   6.232790  57.011005    ...      7.096343   \n",
       "3   7.823932   8.520713   2.066576  10.870009  53.292034    ...      5.200770   \n",
       "4  10.543189  26.688686  12.484822   1.364917  67.140393    ...     11.227770   \n",
       "\n",
       "     RPS4Y1       ZFY      PRKY     USP9Y     DDX3Y       CD24  CYorf15B  \\\n",
       "0  1.257614  1.257614  1.257614  1.257614  1.257614  23.268694  1.257614   \n",
       "1  1.815112  1.815112  1.815112  1.815112  1.815112  10.427023  1.815112   \n",
       "2  2.077597  2.077597  2.077597  2.077597  2.077597  22.344226  2.077597   \n",
       "3  2.066576  2.066576  2.066576  2.066576  2.066576  49.295538  2.066576   \n",
       "4  1.364917  1.364917  1.364917  1.364917  1.364917  23.627911  1.364917   \n",
       "\n",
       "      KDM5D    EIF1AY  \n",
       "0  1.257614  1.257614  \n",
       "1  1.815112  1.815112  \n",
       "2  2.077597  2.077597  \n",
       "3  2.066576  2.066576  \n",
       "4  1.364917  1.364917  \n",
       "\n",
       "[5 rows x 15750 columns]"
      ]
     },
     "execution_count": 4,
     "metadata": {},
     "output_type": "execute_result"
    }
   ],
   "source": [
    "df.head()"
   ]
  },
  {
   "cell_type": "code",
   "execution_count": 5,
   "metadata": {},
   "outputs": [
    {
     "data": {
      "image/png": "[encoded data removed]",
      "text/plain": [
       "<matplotlib.figure.Figure at 0xb405ced048>"
      ]
     },
     "metadata": {},
     "output_type": "display_data"
    }
   ],
   "source": [
    "sns.countplot(df.Diagnosis);"
   ]
  },
  {
   "cell_type": "markdown",
   "metadata": {},
   "source": [
    "Бачимо, що к-сть обєктів у трьох групах зрівноважена"
   ]
  },
  {
   "cell_type": "code",
   "execution_count": 6,
   "metadata": {},
   "outputs": [
    {
     "data": {
      "text/plain": [
       "early neoplasia    25\n",
       "normal             24\n",
       "cancer             23\n",
       "Name: Diagnosis, dtype: int64"
      ]
     },
     "execution_count": 6,
     "metadata": {},
     "output_type": "execute_result"
    }
   ],
   "source": [
    "df.Diagnosis.value_counts()"
   ]
  },
  {
   "cell_type": "markdown",
   "metadata": {},
   "source": [
    "### Перевіримо, що розподіли у вибірках суттєво не відрізняються від нормальних за допомогою тесту Шапіро-Уілка:"
   ]
  },
  {
   "cell_type": "code",
   "execution_count": 7,
   "metadata": {},
   "outputs": [
    {
     "name": "stdout",
     "output_type": "stream",
     "text": [
      "Shapiro-Wilk normality test, W-statistic: 0.899314, p-value: 0.000029\n",
      "Shapiro-Wilk normality test, W-statistic: 0.912100, p-value: 0.000097\n"
     ]
    }
   ],
   "source": [
    "print (\"Shapiro-Wilk normality test, W-statistic: %f, p-value: %f\" % stats.shapiro(df.LOC643837))\n",
    "print (\"Shapiro-Wilk normality test, W-statistic: %f, p-value: %f\" % stats.shapiro(df.LOC100130417))"
   ]
  },
  {
   "cell_type": "code",
   "execution_count": 8,
   "metadata": {},
   "outputs": [
    {
     "data": {
      "text/plain": [
       "11614"
      ]
     },
     "execution_count": 8,
     "metadata": {},
     "output_type": "execute_result"
    }
   ],
   "source": [
    "shapiro_test_normal = {}\n",
    "\n",
    "for col in df.columns[2:]:    \n",
    "    s = stats.shapiro(df.loc[df.Diagnosis==\"normal\", col])[1]\n",
    "    if s >= 0.05:\n",
    "        shapiro_test_normal[col] = s\n",
    "\n",
    "len(shapiro_test_normal)"
   ]
  },
  {
   "cell_type": "code",
   "execution_count": 9,
   "metadata": {},
   "outputs": [],
   "source": [
    "shapiro_test_early = {}\n",
    "\n",
    "for col in df.columns[2:]:    \n",
    "    s = stats.shapiro(df.loc[df.Diagnosis==\"early neoplasia\", col])[1]\n",
    "    if s >= 0.05:\n",
    "        shapiro_test_early[col] = s"
   ]
  },
  {
   "cell_type": "code",
   "execution_count": 10,
   "metadata": {},
   "outputs": [
    {
     "data": {
      "text/plain": [
       "11815"
      ]
     },
     "execution_count": 10,
     "metadata": {},
     "output_type": "execute_result"
    }
   ],
   "source": [
    "len(shapiro_test_early)"
   ]
  },
  {
   "cell_type": "code",
   "execution_count": 45,
   "metadata": {},
   "outputs": [],
   "source": [
    "shapiro_test_cancer = {}\n",
    "\n",
    "for col in df.columns[2:]: \n",
    "    s = stats.shapiro(df.loc[df.Diagnosis==\"cancer\", col])[1]\n",
    "    if s >= 0.05:\n",
    "        shapiro_test_cancer[col] = s"
   ]
  },
  {
   "cell_type": "code",
   "execution_count": 46,
   "metadata": {},
   "outputs": [
    {
     "data": {
      "text/plain": [
       "11495"
      ]
     },
     "execution_count": 46,
     "metadata": {},
     "output_type": "execute_result"
    }
   ],
   "source": [
    "len(shapiro_test_cancer)"
   ]
  },
  {
   "cell_type": "markdown",
   "metadata": {},
   "source": [
    "1. У групі здорових жінок для 11614 з 15748 вибірок не відхиляється нульова гіпотеза про нормальність.\n",
    "2. У групі жінок з початковою стадією раку для 11815 вибірок не відхиляється нульова гіпотеза про нормальність.\n",
    "3. У групі жінок з вираженими симптомами раку для 11495 вибірок не відхиляється нульова гіпотеза про нормальність.\n",
    "\n",
    "Серед отриманих вибірок є ті, у яких p-value менше 0.05, тобто відхиляється Н0 на рівні значимості 0.05"
   ]
  },
  {
   "cell_type": "markdown",
   "metadata": {},
   "source": [
    "### t-критерій Стюдента для двох незалежних вибірок:"
   ]
  },
  {
   "cell_type": "markdown",
   "metadata": {},
   "source": [
    "Незважаючи на присутність вибірок у яких відхиляється гіпотеза про нормальність, використаєм t-критерій Стюдента\n",
    "для перевірки гіпотези про рівність середніх двох вибірок.\n"
   ]
  },
  {
   "cell_type": "markdown",
   "metadata": {},
   "source": [
    "##### 1. Для груп normal (control) і early neoplasia (treatment)"
   ]
  },
  {
   "cell_type": "code",
   "execution_count": 12,
   "metadata": {},
   "outputs": [],
   "source": [
    "t_normal_early = []\n",
    "\n",
    "for col in df.columns[2:]:\n",
    "    t_normal_early.append(stats.ttest_ind(df.loc[df.Diagnosis==\"normal\", col], \\\n",
    "                                         df.loc[df.Diagnosis==\"early neoplasia\", col])[1] )\n",
    "\n",
    "normal_early = pd.DataFrame(data=t_normal_early, index=df.columns[2:], columns=[\"t_ind\"])"
   ]
  },
  {
   "cell_type": "code",
   "execution_count": 13,
   "metadata": {},
   "outputs": [
    {
     "data": {
      "text/plain": [
       "(1583, 1)"
      ]
     },
     "execution_count": 13,
     "metadata": {},
     "output_type": "execute_result"
    }
   ],
   "source": [
    "normal_early[normal_early.t_ind < 0.05].shape"
   ]
  },
  {
   "cell_type": "markdown",
   "metadata": {},
   "source": [
    "Для 1583 генів відхиляється H0 про рівність їх середніх у групах normal(control) та early neoplasia(treatment) на рівні значимості 0.05 "
   ]
  },
  {
   "cell_type": "markdown",
   "metadata": {},
   "source": [
    "##### 2. Для груп early neoplasia (control) і cancer (treatment)"
   ]
  },
  {
   "cell_type": "code",
   "execution_count": 14,
   "metadata": {},
   "outputs": [],
   "source": [
    "t_early_cancer = []\n",
    "\n",
    "for col in df.columns[2:]:\n",
    "    t_early_cancer.append(stats.ttest_ind(df.loc[df.Diagnosis==\"early neoplasia\", col], \\\n",
    "                                          df.loc[df.Diagnosis==\"cancer\", col])[1] )\n",
    "    \n",
    "early_cancer = pd.DataFrame(data=t_early_cancer, index=df.columns[2:], columns=[\"t_ind\"])\n"
   ]
  },
  {
   "cell_type": "code",
   "execution_count": 15,
   "metadata": {},
   "outputs": [
    {
     "data": {
      "text/plain": [
       "(3529, 1)"
      ]
     },
     "execution_count": 15,
     "metadata": {},
     "output_type": "execute_result"
    }
   ],
   "source": [
    "early_cancer[early_cancer.t_ind < 0.05].shape"
   ]
  },
  {
   "cell_type": "markdown",
   "metadata": {},
   "source": [
    "Для 3529 генів відхиляється H0 про рівність їх середніх у групах early(control) та cancer(treatment) на рівні значимості 0.05 "
   ]
  },
  {
   "cell_type": "markdown",
   "metadata": {},
   "source": [
    "### Множинна перевірка гіпотез: поправка Холма-Бонферронні"
   ]
  },
  {
   "cell_type": "markdown",
   "metadata": {},
   "source": [
    " Після поправки Холма проблема з множинною перевіркою залишається, так як поправку Холма робимо окремо для кожного з двох\n",
    "наборів p-value, які були отримані раніше.\n",
    "Тому застосовуємо поправку Бонферроні, тобто рівень значимості тепер 0.5/2 ."
   ]
  },
  {
   "cell_type": "code",
   "execution_count": 16,
   "metadata": {},
   "outputs": [],
   "source": [
    "reject, p_corrected, a1, a2 = smm.multipletests(normal_early.t_ind, alpha = 0.025, method = 'holm') \n",
    "normal_early['p_corrected_hb'] = p_corrected\n",
    "normal_early['rejected_hb'] = reject"
   ]
  },
  {
   "cell_type": "markdown",
   "metadata": {},
   "source": [
    "Fold change - визначає практичну значимість зміни експресії. С і Т - середні значення експресії гена в contrlo\n",
    "і treatment групах відповідно"
   ]
  },
  {
   "cell_type": "code",
   "execution_count": 17,
   "metadata": {},
   "outputs": [],
   "source": [
    "fold_change_1 = []\n",
    "for col in df.columns[2:]:\n",
    "    C = df.loc[df.Diagnosis==\"normal\", col].mean()\n",
    "    T = df.loc[df.Diagnosis==\"early neoplasia\", col].mean()\n",
    "    if T >= C:\n",
    "        fold_change_1.append(T/C)\n",
    "    else:\n",
    "        fold_change_1.append(-C/T)\n",
    "\n",
    "normal_early['fold_change'] = fold_change_1"
   ]
  },
  {
   "cell_type": "code",
   "execution_count": 18,
   "metadata": {},
   "outputs": [
    {
     "data": {
      "text/html": [
       "<div>\n",
       "<style scoped>\n",
       "    .dataframe tbody tr th:only-of-type {\n",
       "        vertical-align: middle;\n",
       "    }\n",
       "\n",
       "    .dataframe tbody tr th {\n",
       "        vertical-align: top;\n",
       "    }\n",
       "\n",
       "    .dataframe thead th {\n",
       "        text-align: right;\n",
       "    }\n",
       "</style>\n",
       "<table border=\"1\" class=\"dataframe\">\n",
       "  <thead>\n",
       "    <tr style=\"text-align: right;\">\n",
       "      <th></th>\n",
       "      <th>t_ind</th>\n",
       "      <th>p_corrected_hb</th>\n",
       "      <th>rejected_hb</th>\n",
       "      <th>fold_change</th>\n",
       "    </tr>\n",
       "  </thead>\n",
       "  <tbody>\n",
       "    <tr>\n",
       "      <th>LOC643837</th>\n",
       "      <td>0.690597</td>\n",
       "      <td>1.000000</td>\n",
       "      <td>False</td>\n",
       "      <td>-1.067858</td>\n",
       "    </tr>\n",
       "    <tr>\n",
       "      <th>LOC100130417</th>\n",
       "      <td>0.000033</td>\n",
       "      <td>0.514589</td>\n",
       "      <td>False</td>\n",
       "      <td>1.996517</td>\n",
       "    </tr>\n",
       "    <tr>\n",
       "      <th>SAMD11</th>\n",
       "      <td>0.058455</td>\n",
       "      <td>1.000000</td>\n",
       "      <td>False</td>\n",
       "      <td>1.222418</td>\n",
       "    </tr>\n",
       "    <tr>\n",
       "      <th>NOC2L</th>\n",
       "      <td>0.825984</td>\n",
       "      <td>1.000000</td>\n",
       "      <td>False</td>\n",
       "      <td>-1.020070</td>\n",
       "    </tr>\n",
       "    <tr>\n",
       "      <th>KLHL17</th>\n",
       "      <td>0.050391</td>\n",
       "      <td>1.000000</td>\n",
       "      <td>False</td>\n",
       "      <td>1.125471</td>\n",
       "    </tr>\n",
       "  </tbody>\n",
       "</table>\n",
       "</div>"
      ],
      "text/plain": [
       "                 t_ind  p_corrected_hb  rejected_hb  fold_change\n",
       "LOC643837     0.690597        1.000000        False    -1.067858\n",
       "LOC100130417  0.000033        0.514589        False     1.996517\n",
       "SAMD11        0.058455        1.000000        False     1.222418\n",
       "NOC2L         0.825984        1.000000        False    -1.020070\n",
       "KLHL17        0.050391        1.000000        False     1.125471"
      ]
     },
     "execution_count": 18,
     "metadata": {},
     "output_type": "execute_result"
    }
   ],
   "source": [
    "normal_early.head()"
   ]
  },
  {
   "cell_type": "code",
   "execution_count": 19,
   "metadata": {},
   "outputs": [
    {
     "data": {
      "text/plain": [
       "False    15746\n",
       "True         2\n",
       "Name: rejected_hb, dtype: int64"
      ]
     },
     "execution_count": 19,
     "metadata": {},
     "output_type": "execute_result"
    }
   ],
   "source": [
    "normal_early.rejected_hb.value_counts()"
   ]
  },
  {
   "cell_type": "code",
   "execution_count": 22,
   "metadata": {},
   "outputs": [
    {
     "data": {
      "text/html": [
       "<div>\n",
       "<style scoped>\n",
       "    .dataframe tbody tr th:only-of-type {\n",
       "        vertical-align: middle;\n",
       "    }\n",
       "\n",
       "    .dataframe tbody tr th {\n",
       "        vertical-align: top;\n",
       "    }\n",
       "\n",
       "    .dataframe thead th {\n",
       "        text-align: right;\n",
       "    }\n",
       "</style>\n",
       "<table border=\"1\" class=\"dataframe\">\n",
       "  <thead>\n",
       "    <tr style=\"text-align: right;\">\n",
       "      <th></th>\n",
       "      <th>t_ind</th>\n",
       "      <th>p_corrected_hb</th>\n",
       "      <th>rejected_hb</th>\n",
       "      <th>fold_change</th>\n",
       "    </tr>\n",
       "  </thead>\n",
       "  <tbody>\n",
       "    <tr>\n",
       "      <th>PCSK4</th>\n",
       "      <td>6.256978e-07</td>\n",
       "      <td>0.009853</td>\n",
       "      <td>True</td>\n",
       "      <td>1.509785</td>\n",
       "    </tr>\n",
       "    <tr>\n",
       "      <th>EEF1A2</th>\n",
       "      <td>5.324929e-08</td>\n",
       "      <td>0.000839</td>\n",
       "      <td>True</td>\n",
       "      <td>1.974868</td>\n",
       "    </tr>\n",
       "  </tbody>\n",
       "</table>\n",
       "</div>"
      ],
      "text/plain": [
       "               t_ind  p_corrected_hb  rejected_hb  fold_change\n",
       "PCSK4   6.256978e-07        0.009853         True     1.509785\n",
       "EEF1A2  5.324929e-08        0.000839         True     1.974868"
      ]
     },
     "execution_count": 22,
     "metadata": {},
     "output_type": "execute_result"
    }
   ],
   "source": [
    "normal_early[(normal_early.rejected_hb==True)&(abs(normal_early.fold_change)>1.5)]"
   ]
  },
  {
   "cell_type": "code",
   "execution_count": 21,
   "metadata": {},
   "outputs": [
    {
     "data": {
      "text/plain": [
       "(216, 4)"
      ]
     },
     "execution_count": 21,
     "metadata": {},
     "output_type": "execute_result"
    }
   ],
   "source": [
    "normal_early[(normal_early.t_ind < 0.05)&(abs(normal_early.fold_change)>1.5)].shape"
   ]
  },
  {
   "cell_type": "markdown",
   "metadata": {},
   "source": [
    "При врахуванні поправки Холма-Бонферроні було відхилено дві нульові гіпотези про рівність середньої експресії гену у групах normal та early neoplasia. Тобто спостерігаються дві значимі зміни із практична значимість(fold change) для цих генів перевищує 1.5 . Тоді ж як t-критерій Стюдента відхиляє 216 нульових гіпотез при врахуванні практичної значимості."
   ]
  },
  {
   "cell_type": "markdown",
   "metadata": {},
   "source": [
    "   "
   ]
  },
  {
   "cell_type": "code",
   "execution_count": 24,
   "metadata": {},
   "outputs": [],
   "source": [
    "reject, p_corrected, a1, a2 = smm.multipletests(early_cancer.t_ind, alpha = 0.025, method = 'holm') \n",
    "early_cancer['p_corrected_hb'] = p_corrected\n",
    "early_cancer['rejected_hb'] = reject"
   ]
  },
  {
   "cell_type": "code",
   "execution_count": 25,
   "metadata": {},
   "outputs": [],
   "source": [
    "fold_change_2 = []\n",
    "for col in df.columns[2:]:\n",
    "    C = df.loc[df.Diagnosis==\"early neoplasia\", col].mean()\n",
    "    T = df.loc[df.Diagnosis==\"cancer\", col].mean()\n",
    "    if T >= C:\n",
    "        fold_change_2.append(T/C)\n",
    "    else:\n",
    "        fold_change_2.append(-C/T)\n",
    "\n",
    "early_cancer['fold_change'] = fold_change_2"
   ]
  },
  {
   "cell_type": "code",
   "execution_count": 26,
   "metadata": {},
   "outputs": [
    {
     "data": {
      "text/html": [
       "<div>\n",
       "<style scoped>\n",
       "    .dataframe tbody tr th:only-of-type {\n",
       "        vertical-align: middle;\n",
       "    }\n",
       "\n",
       "    .dataframe tbody tr th {\n",
       "        vertical-align: top;\n",
       "    }\n",
       "\n",
       "    .dataframe thead th {\n",
       "        text-align: right;\n",
       "    }\n",
       "</style>\n",
       "<table border=\"1\" class=\"dataframe\">\n",
       "  <thead>\n",
       "    <tr style=\"text-align: right;\">\n",
       "      <th></th>\n",
       "      <th>t_ind</th>\n",
       "      <th>p_corrected_hb</th>\n",
       "      <th>rejected_hb</th>\n",
       "      <th>fold_change</th>\n",
       "    </tr>\n",
       "  </thead>\n",
       "  <tbody>\n",
       "    <tr>\n",
       "      <th>LOC643837</th>\n",
       "      <td>0.416764</td>\n",
       "      <td>1.0</td>\n",
       "      <td>False</td>\n",
       "      <td>-1.148593</td>\n",
       "    </tr>\n",
       "    <tr>\n",
       "      <th>LOC100130417</th>\n",
       "      <td>0.650072</td>\n",
       "      <td>1.0</td>\n",
       "      <td>False</td>\n",
       "      <td>-1.064871</td>\n",
       "    </tr>\n",
       "    <tr>\n",
       "      <th>SAMD11</th>\n",
       "      <td>0.067484</td>\n",
       "      <td>1.0</td>\n",
       "      <td>False</td>\n",
       "      <td>1.278517</td>\n",
       "    </tr>\n",
       "    <tr>\n",
       "      <th>NOC2L</th>\n",
       "      <td>0.287644</td>\n",
       "      <td>1.0</td>\n",
       "      <td>False</td>\n",
       "      <td>1.092635</td>\n",
       "    </tr>\n",
       "    <tr>\n",
       "      <th>KLHL17</th>\n",
       "      <td>0.470720</td>\n",
       "      <td>1.0</td>\n",
       "      <td>False</td>\n",
       "      <td>1.036574</td>\n",
       "    </tr>\n",
       "  </tbody>\n",
       "</table>\n",
       "</div>"
      ],
      "text/plain": [
       "                 t_ind  p_corrected_hb  rejected_hb  fold_change\n",
       "LOC643837     0.416764             1.0        False    -1.148593\n",
       "LOC100130417  0.650072             1.0        False    -1.064871\n",
       "SAMD11        0.067484             1.0        False     1.278517\n",
       "NOC2L         0.287644             1.0        False     1.092635\n",
       "KLHL17        0.470720             1.0        False     1.036574"
      ]
     },
     "execution_count": 26,
     "metadata": {},
     "output_type": "execute_result"
    }
   ],
   "source": [
    "early_cancer.head()"
   ]
  },
  {
   "cell_type": "code",
   "execution_count": 27,
   "metadata": {},
   "outputs": [
    {
     "data": {
      "text/plain": [
       "False    15663\n",
       "True        85\n",
       "Name: rejected_hb, dtype: int64"
      ]
     },
     "execution_count": 27,
     "metadata": {},
     "output_type": "execute_result"
    }
   ],
   "source": [
    "early_cancer.rejected_hb.value_counts()"
   ]
  },
  {
   "cell_type": "code",
   "execution_count": 28,
   "metadata": {},
   "outputs": [
    {
     "data": {
      "text/plain": [
       "(82, 4)"
      ]
     },
     "execution_count": 28,
     "metadata": {},
     "output_type": "execute_result"
    }
   ],
   "source": [
    "early_cancer[(early_cancer.rejected_hb == True)&(abs(early_cancer.fold_change)>1.5)].shape"
   ]
  },
  {
   "cell_type": "code",
   "execution_count": 29,
   "metadata": {},
   "outputs": [
    {
     "data": {
      "text/plain": [
       "(193, 4)"
      ]
     },
     "execution_count": 29,
     "metadata": {},
     "output_type": "execute_result"
    }
   ],
   "source": [
    "early_cancer[(normal_early.t_ind < 0.05)&(abs(early_cancer.fold_change)>1.5)].shape"
   ]
  },
  {
   "cell_type": "markdown",
   "metadata": {},
   "source": [
    "При врахуванні поправки Холма-Бонферроні було відхилено 82 нульові гіпотези про рівність середньої експресії гену у групах early neoplasia та cancer. Тобто спостерігаються 82 значимі зміни із практична значимість(fold change) для цих генів перевищує 1.5 . Тоді ж як t-критерій Стюдента відхиляє 193 нульових гіпотез при врахуванні практичної значимості."
   ]
  },
  {
   "cell_type": "markdown",
   "metadata": {},
   "source": [
    "### Поправка методом Бенджаміні-Хохберга"
   ]
  },
  {
   "cell_type": "code",
   "execution_count": 30,
   "metadata": {},
   "outputs": [],
   "source": [
    "reject, p_corrected, a1, a2 = smm.multipletests(normal_early.t_ind, alpha = 0.025, method = 'fdr_bh') \n",
    "normal_early['p_corrected_bh'] = p_corrected\n",
    "normal_early['rejected_bh'] = reject"
   ]
  },
  {
   "cell_type": "code",
   "execution_count": 31,
   "metadata": {},
   "outputs": [
    {
     "data": {
      "text/html": [
       "<div>\n",
       "<style scoped>\n",
       "    .dataframe tbody tr th:only-of-type {\n",
       "        vertical-align: middle;\n",
       "    }\n",
       "\n",
       "    .dataframe tbody tr th {\n",
       "        vertical-align: top;\n",
       "    }\n",
       "\n",
       "    .dataframe thead th {\n",
       "        text-align: right;\n",
       "    }\n",
       "</style>\n",
       "<table border=\"1\" class=\"dataframe\">\n",
       "  <thead>\n",
       "    <tr style=\"text-align: right;\">\n",
       "      <th></th>\n",
       "      <th>t_ind</th>\n",
       "      <th>p_corrected_hb</th>\n",
       "      <th>rejected_hb</th>\n",
       "      <th>fold_change</th>\n",
       "      <th>p_corrected_bh</th>\n",
       "      <th>rejected_bh</th>\n",
       "    </tr>\n",
       "  </thead>\n",
       "  <tbody>\n",
       "    <tr>\n",
       "      <th>LOC643837</th>\n",
       "      <td>0.690597</td>\n",
       "      <td>1.000000</td>\n",
       "      <td>False</td>\n",
       "      <td>-1.067858</td>\n",
       "      <td>0.966207</td>\n",
       "      <td>False</td>\n",
       "    </tr>\n",
       "    <tr>\n",
       "      <th>LOC100130417</th>\n",
       "      <td>0.000033</td>\n",
       "      <td>0.514589</td>\n",
       "      <td>False</td>\n",
       "      <td>1.996517</td>\n",
       "      <td>0.028613</td>\n",
       "      <td>False</td>\n",
       "    </tr>\n",
       "    <tr>\n",
       "      <th>SAMD11</th>\n",
       "      <td>0.058455</td>\n",
       "      <td>1.000000</td>\n",
       "      <td>False</td>\n",
       "      <td>1.222418</td>\n",
       "      <td>0.528231</td>\n",
       "      <td>False</td>\n",
       "    </tr>\n",
       "    <tr>\n",
       "      <th>NOC2L</th>\n",
       "      <td>0.825984</td>\n",
       "      <td>1.000000</td>\n",
       "      <td>False</td>\n",
       "      <td>-1.020070</td>\n",
       "      <td>0.980757</td>\n",
       "      <td>False</td>\n",
       "    </tr>\n",
       "    <tr>\n",
       "      <th>KLHL17</th>\n",
       "      <td>0.050391</td>\n",
       "      <td>1.000000</td>\n",
       "      <td>False</td>\n",
       "      <td>1.125471</td>\n",
       "      <td>0.499289</td>\n",
       "      <td>False</td>\n",
       "    </tr>\n",
       "  </tbody>\n",
       "</table>\n",
       "</div>"
      ],
      "text/plain": [
       "                 t_ind  p_corrected_hb  rejected_hb  fold_change  \\\n",
       "LOC643837     0.690597        1.000000        False    -1.067858   \n",
       "LOC100130417  0.000033        0.514589        False     1.996517   \n",
       "SAMD11        0.058455        1.000000        False     1.222418   \n",
       "NOC2L         0.825984        1.000000        False    -1.020070   \n",
       "KLHL17        0.050391        1.000000        False     1.125471   \n",
       "\n",
       "              p_corrected_bh  rejected_bh  \n",
       "LOC643837           0.966207        False  \n",
       "LOC100130417        0.028613        False  \n",
       "SAMD11              0.528231        False  \n",
       "NOC2L               0.980757        False  \n",
       "KLHL17              0.499289        False  "
      ]
     },
     "execution_count": 31,
     "metadata": {},
     "output_type": "execute_result"
    }
   ],
   "source": [
    "normal_early.head()"
   ]
  },
  {
   "cell_type": "code",
   "execution_count": 32,
   "metadata": {},
   "outputs": [
    {
     "data": {
      "text/plain": [
       "False    15744\n",
       "True         4\n",
       "Name: rejected_bh, dtype: int64"
      ]
     },
     "execution_count": 32,
     "metadata": {},
     "output_type": "execute_result"
    }
   ],
   "source": [
    "normal_early.rejected_bh.value_counts()"
   ]
  },
  {
   "cell_type": "code",
   "execution_count": 33,
   "metadata": {},
   "outputs": [
    {
     "data": {
      "text/html": [
       "<div>\n",
       "<style scoped>\n",
       "    .dataframe tbody tr th:only-of-type {\n",
       "        vertical-align: middle;\n",
       "    }\n",
       "\n",
       "    .dataframe tbody tr th {\n",
       "        vertical-align: top;\n",
       "    }\n",
       "\n",
       "    .dataframe thead th {\n",
       "        text-align: right;\n",
       "    }\n",
       "</style>\n",
       "<table border=\"1\" class=\"dataframe\">\n",
       "  <thead>\n",
       "    <tr style=\"text-align: right;\">\n",
       "      <th></th>\n",
       "      <th>t_ind</th>\n",
       "      <th>p_corrected_hb</th>\n",
       "      <th>rejected_hb</th>\n",
       "      <th>fold_change</th>\n",
       "      <th>p_corrected_bh</th>\n",
       "      <th>rejected_bh</th>\n",
       "    </tr>\n",
       "  </thead>\n",
       "  <tbody>\n",
       "    <tr>\n",
       "      <th>TMEM63C</th>\n",
       "      <td>1.880097e-06</td>\n",
       "      <td>0.029602</td>\n",
       "      <td>False</td>\n",
       "      <td>1.663826</td>\n",
       "      <td>0.007402</td>\n",
       "      <td>True</td>\n",
       "    </tr>\n",
       "    <tr>\n",
       "      <th>PCSK4</th>\n",
       "      <td>6.256978e-07</td>\n",
       "      <td>0.009853</td>\n",
       "      <td>True</td>\n",
       "      <td>1.509785</td>\n",
       "      <td>0.004927</td>\n",
       "      <td>True</td>\n",
       "    </tr>\n",
       "    <tr>\n",
       "      <th>CACNG8</th>\n",
       "      <td>1.708786e-06</td>\n",
       "      <td>0.026907</td>\n",
       "      <td>False</td>\n",
       "      <td>1.754951</td>\n",
       "      <td>0.007402</td>\n",
       "      <td>True</td>\n",
       "    </tr>\n",
       "    <tr>\n",
       "      <th>EEF1A2</th>\n",
       "      <td>5.324929e-08</td>\n",
       "      <td>0.000839</td>\n",
       "      <td>True</td>\n",
       "      <td>1.974868</td>\n",
       "      <td>0.000839</td>\n",
       "      <td>True</td>\n",
       "    </tr>\n",
       "  </tbody>\n",
       "</table>\n",
       "</div>"
      ],
      "text/plain": [
       "                t_ind  p_corrected_hb  rejected_hb  fold_change  \\\n",
       "TMEM63C  1.880097e-06        0.029602        False     1.663826   \n",
       "PCSK4    6.256978e-07        0.009853         True     1.509785   \n",
       "CACNG8   1.708786e-06        0.026907        False     1.754951   \n",
       "EEF1A2   5.324929e-08        0.000839         True     1.974868   \n",
       "\n",
       "         p_corrected_bh  rejected_bh  \n",
       "TMEM63C        0.007402         True  \n",
       "PCSK4          0.004927         True  \n",
       "CACNG8         0.007402         True  \n",
       "EEF1A2         0.000839         True  "
      ]
     },
     "execution_count": 33,
     "metadata": {},
     "output_type": "execute_result"
    }
   ],
   "source": [
    "normal_early[normal_early.rejected_bh==True]"
   ]
  },
  {
   "cell_type": "markdown",
   "metadata": {},
   "source": [
    "При врахуванні поправки Бенджаміні-Хохберга було відхилено 4 нульові гіпотези про рівність середньої експресії гену у групах normal та early neoplasia. Тобто спостерігаються 4 значимі зміни і практична значимість(fold change) для цих генів перевищує 1.5 ."
   ]
  },
  {
   "cell_type": "markdown",
   "metadata": {},
   "source": [
    "  "
   ]
  },
  {
   "cell_type": "code",
   "execution_count": 34,
   "metadata": {},
   "outputs": [],
   "source": [
    "reject, p_corrected, a1, a2 = smm.multipletests(early_cancer.t_ind, alpha = 0.025, method = 'fdr_bh') \n",
    "early_cancer['p_corrected_bh'] = p_corrected\n",
    "early_cancer['rejected_bh'] = reject"
   ]
  },
  {
   "cell_type": "code",
   "execution_count": 35,
   "metadata": {},
   "outputs": [
    {
     "data": {
      "text/html": [
       "<div>\n",
       "<style scoped>\n",
       "    .dataframe tbody tr th:only-of-type {\n",
       "        vertical-align: middle;\n",
       "    }\n",
       "\n",
       "    .dataframe tbody tr th {\n",
       "        vertical-align: top;\n",
       "    }\n",
       "\n",
       "    .dataframe thead th {\n",
       "        text-align: right;\n",
       "    }\n",
       "</style>\n",
       "<table border=\"1\" class=\"dataframe\">\n",
       "  <thead>\n",
       "    <tr style=\"text-align: right;\">\n",
       "      <th></th>\n",
       "      <th>t_ind</th>\n",
       "      <th>p_corrected_hb</th>\n",
       "      <th>rejected_hb</th>\n",
       "      <th>fold_change</th>\n",
       "      <th>p_corrected_bh</th>\n",
       "      <th>rejected_bh</th>\n",
       "    </tr>\n",
       "  </thead>\n",
       "  <tbody>\n",
       "    <tr>\n",
       "      <th>LOC643837</th>\n",
       "      <td>0.416764</td>\n",
       "      <td>1.0</td>\n",
       "      <td>False</td>\n",
       "      <td>-1.148593</td>\n",
       "      <td>0.676582</td>\n",
       "      <td>False</td>\n",
       "    </tr>\n",
       "    <tr>\n",
       "      <th>LOC100130417</th>\n",
       "      <td>0.650072</td>\n",
       "      <td>1.0</td>\n",
       "      <td>False</td>\n",
       "      <td>-1.064871</td>\n",
       "      <td>0.834203</td>\n",
       "      <td>False</td>\n",
       "    </tr>\n",
       "    <tr>\n",
       "      <th>SAMD11</th>\n",
       "      <td>0.067484</td>\n",
       "      <td>1.0</td>\n",
       "      <td>False</td>\n",
       "      <td>1.278517</td>\n",
       "      <td>0.263054</td>\n",
       "      <td>False</td>\n",
       "    </tr>\n",
       "    <tr>\n",
       "      <th>NOC2L</th>\n",
       "      <td>0.287644</td>\n",
       "      <td>1.0</td>\n",
       "      <td>False</td>\n",
       "      <td>1.092635</td>\n",
       "      <td>0.561734</td>\n",
       "      <td>False</td>\n",
       "    </tr>\n",
       "    <tr>\n",
       "      <th>KLHL17</th>\n",
       "      <td>0.470720</td>\n",
       "      <td>1.0</td>\n",
       "      <td>False</td>\n",
       "      <td>1.036574</td>\n",
       "      <td>0.717470</td>\n",
       "      <td>False</td>\n",
       "    </tr>\n",
       "  </tbody>\n",
       "</table>\n",
       "</div>"
      ],
      "text/plain": [
       "                 t_ind  p_corrected_hb  rejected_hb  fold_change  \\\n",
       "LOC643837     0.416764             1.0        False    -1.148593   \n",
       "LOC100130417  0.650072             1.0        False    -1.064871   \n",
       "SAMD11        0.067484             1.0        False     1.278517   \n",
       "NOC2L         0.287644             1.0        False     1.092635   \n",
       "KLHL17        0.470720             1.0        False     1.036574   \n",
       "\n",
       "              p_corrected_bh  rejected_bh  \n",
       "LOC643837           0.676582        False  \n",
       "LOC100130417        0.834203        False  \n",
       "SAMD11              0.263054        False  \n",
       "NOC2L               0.561734        False  \n",
       "KLHL17              0.717470        False  "
      ]
     },
     "execution_count": 35,
     "metadata": {},
     "output_type": "execute_result"
    }
   ],
   "source": [
    "early_cancer.head()"
   ]
  },
  {
   "cell_type": "code",
   "execution_count": 36,
   "metadata": {},
   "outputs": [
    {
     "data": {
      "text/plain": [
       "False    14840\n",
       "True       908\n",
       "Name: rejected_bh, dtype: int64"
      ]
     },
     "execution_count": 36,
     "metadata": {},
     "output_type": "execute_result"
    }
   ],
   "source": [
    "early_cancer.rejected_bh.value_counts()"
   ]
  },
  {
   "cell_type": "code",
   "execution_count": 37,
   "metadata": {},
   "outputs": [
    {
     "data": {
      "text/plain": [
       "(560, 6)"
      ]
     },
     "execution_count": 37,
     "metadata": {},
     "output_type": "execute_result"
    }
   ],
   "source": [
    "early_cancer[(early_cancer.rejected_bh == True)&(abs(early_cancer.fold_change)>1.5)].shape"
   ]
  },
  {
   "cell_type": "markdown",
   "metadata": {},
   "source": [
    "При врахуванні поправки Бенджаміні-Хохберга було відхилено 560 нульові гіпотези про рівність середньої експресії гену у групах early neoplasia та cancer. Тобто спостерігаються 560 значимі зміни і практична значимість(fold change) для цих генів перевищує 1.5 ."
   ]
  },
  {
   "cell_type": "markdown",
   "metadata": {},
   "source": [
    "###### К-сть відхилених і прийнятих гіпотез H0 про рівність середніх у двох вибірках при врахуванні практичної значимості"
   ]
  },
  {
   "cell_type": "markdown",
   "metadata": {},
   "source": [
    "<table>\n",
    "    <tr>\n",
    "    <th> </th>\n",
    "    <th>H0 accept (normal and early)</th>\n",
    "    <th>H0 reject (normal and early)</th>\n",
    "    <th>H0 accept (early and cancer)</th>\n",
    "    <th>H0 reject (early and cancer)</th>\n",
    "    </tr>    \n",
    "    <tr>\n",
    "    <td>t-Student test</td>\n",
    "    <td>15532</td>\n",
    "    <td>216</td>\n",
    "    <td>15555</td>\n",
    "    <td>193</td>\n",
    "    </tr>\n",
    "    <tr>\n",
    "    <td>Holm-Bonferroni correction</td>\n",
    "    <td>15746</td>\n",
    "    <td>2</td>\n",
    "    <td>15666</td>\n",
    "    <td>82</td>\n",
    "    </tr>\n",
    "    <tr>\n",
    "    <td>Benjamini-Hochberg correction</td>\n",
    "    <td>15744</td>\n",
    "    <td>4</td>\n",
    "    <td>15188</td>\n",
    "    <td>560</td>\n",
    "    </tr>\n",
    "</table>"
   ]
  },
  {
   "cell_type": "markdown",
   "metadata": {},
   "source": [
    "Метод Benjamini-Hochberg контролює FDR і тому має більшу потужність, ніж метод Холма,який контролює FWER. FDR методи краще вловлюють відхилення від Н0, коли дійсно відхилення є, і частіше відхиляють Н0, коли насправді відмінностей немає. При неправильно поставленому діагнозі пацієнтам буде назначено лікування (можливо хіміотерапія), що призведе до важких наслідків."
   ]
  },
  {
   "cell_type": "code",
   "execution_count": null,
   "metadata": {},
   "outputs": [],
   "source": []
  }
 ],
 "metadata": {
  "kernelspec": {
   "display_name": "Python 3",
   "language": "python",
   "name": "python3"
  },
  "language_info": {
   "codemirror_mode": {
    "name": "ipython",
    "version": 3
   },
   "file_extension": ".py",
   "mimetype": "text/x-python",
   "name": "python",
   "nbconvert_exporter": "python",
   "pygments_lexer": "ipython3",
   "version": "3.6.4"
  }
 },
 "nbformat": 4,
 "nbformat_minor": 2
}
